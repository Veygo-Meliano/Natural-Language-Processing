{
  "nbformat": 4,
  "nbformat_minor": 0,
  "metadata": {
    "colab": {
      "name": "submission_nlp.ipynb",
      "provenance": [],
      "collapsed_sections": []
    },
    "kernelspec": {
      "name": "python3",
      "display_name": "Python 3"
    },
    "language_info": {
      "name": "python"
    }
  },
  "cells": [
    {
      "cell_type": "code",
      "metadata": {
        "colab": {
          "base_uri": "https://localhost:8080/",
          "height": 204
        },
        "id": "k1MPyRwjFExK",
        "outputId": "e48c884e-00c8-4a5d-cd19-fa0cbb33d8a9"
      },
      "source": [
        "import pandas as pd\n",
        "df = pd.read_csv('/content/drive/MyDrive/dataset/sentiment_analysis_financial_news.csv', encoding='Windows-1252')\n",
        "df.head()"
      ],
      "execution_count": 1,
      "outputs": [
        {
          "output_type": "execute_result",
          "data": {
            "text/html": [
              "<div>\n",
              "<style scoped>\n",
              "    .dataframe tbody tr th:only-of-type {\n",
              "        vertical-align: middle;\n",
              "    }\n",
              "\n",
              "    .dataframe tbody tr th {\n",
              "        vertical-align: top;\n",
              "    }\n",
              "\n",
              "    .dataframe thead th {\n",
              "        text-align: right;\n",
              "    }\n",
              "</style>\n",
              "<table border=\"1\" class=\"dataframe\">\n",
              "  <thead>\n",
              "    <tr style=\"text-align: right;\">\n",
              "      <th></th>\n",
              "      <th>response</th>\n",
              "      <th>sentence</th>\n",
              "      <th>Unnamed: 2</th>\n",
              "      <th>Unnamed: 3</th>\n",
              "    </tr>\n",
              "  </thead>\n",
              "  <tbody>\n",
              "    <tr>\n",
              "      <th>0</th>\n",
              "      <td>neutral</td>\n",
              "      <td>According to Gran , the company has no plans t...</td>\n",
              "      <td>NaN</td>\n",
              "      <td>NaN</td>\n",
              "    </tr>\n",
              "    <tr>\n",
              "      <th>1</th>\n",
              "      <td>neutral</td>\n",
              "      <td>Technopolis plans to develop in stages an area...</td>\n",
              "      <td>NaN</td>\n",
              "      <td>NaN</td>\n",
              "    </tr>\n",
              "    <tr>\n",
              "      <th>2</th>\n",
              "      <td>negative</td>\n",
              "      <td>The international electronic industry company ...</td>\n",
              "      <td>NaN</td>\n",
              "      <td>NaN</td>\n",
              "    </tr>\n",
              "    <tr>\n",
              "      <th>3</th>\n",
              "      <td>positive</td>\n",
              "      <td>With the new production plant the company woul...</td>\n",
              "      <td>NaN</td>\n",
              "      <td>NaN</td>\n",
              "    </tr>\n",
              "    <tr>\n",
              "      <th>4</th>\n",
              "      <td>positive</td>\n",
              "      <td>According to the company 's updated strategy f...</td>\n",
              "      <td>NaN</td>\n",
              "      <td>NaN</td>\n",
              "    </tr>\n",
              "  </tbody>\n",
              "</table>\n",
              "</div>"
            ],
            "text/plain": [
              "   response  ... Unnamed: 3\n",
              "0   neutral  ...        NaN\n",
              "1   neutral  ...        NaN\n",
              "2  negative  ...        NaN\n",
              "3  positive  ...        NaN\n",
              "4  positive  ...        NaN\n",
              "\n",
              "[5 rows x 4 columns]"
            ]
          },
          "metadata": {
            "tags": []
          },
          "execution_count": 1
        }
      ]
    },
    {
      "cell_type": "code",
      "metadata": {
        "colab": {
          "base_uri": "https://localhost:8080/",
          "height": 204
        },
        "id": "Wm7w0XUnFSw4",
        "outputId": "39ee7138-7306-4ba0-e71c-9e628794ae09"
      },
      "source": [
        "#drop tabel yang tidak diperlukan\n",
        "df = df.drop(columns=['Unnamed: 2', 'Unnamed: 3'])\n",
        "df.head()"
      ],
      "execution_count": 2,
      "outputs": [
        {
          "output_type": "execute_result",
          "data": {
            "text/html": [
              "<div>\n",
              "<style scoped>\n",
              "    .dataframe tbody tr th:only-of-type {\n",
              "        vertical-align: middle;\n",
              "    }\n",
              "\n",
              "    .dataframe tbody tr th {\n",
              "        vertical-align: top;\n",
              "    }\n",
              "\n",
              "    .dataframe thead th {\n",
              "        text-align: right;\n",
              "    }\n",
              "</style>\n",
              "<table border=\"1\" class=\"dataframe\">\n",
              "  <thead>\n",
              "    <tr style=\"text-align: right;\">\n",
              "      <th></th>\n",
              "      <th>response</th>\n",
              "      <th>sentence</th>\n",
              "    </tr>\n",
              "  </thead>\n",
              "  <tbody>\n",
              "    <tr>\n",
              "      <th>0</th>\n",
              "      <td>neutral</td>\n",
              "      <td>According to Gran , the company has no plans t...</td>\n",
              "    </tr>\n",
              "    <tr>\n",
              "      <th>1</th>\n",
              "      <td>neutral</td>\n",
              "      <td>Technopolis plans to develop in stages an area...</td>\n",
              "    </tr>\n",
              "    <tr>\n",
              "      <th>2</th>\n",
              "      <td>negative</td>\n",
              "      <td>The international electronic industry company ...</td>\n",
              "    </tr>\n",
              "    <tr>\n",
              "      <th>3</th>\n",
              "      <td>positive</td>\n",
              "      <td>With the new production plant the company woul...</td>\n",
              "    </tr>\n",
              "    <tr>\n",
              "      <th>4</th>\n",
              "      <td>positive</td>\n",
              "      <td>According to the company 's updated strategy f...</td>\n",
              "    </tr>\n",
              "  </tbody>\n",
              "</table>\n",
              "</div>"
            ],
            "text/plain": [
              "   response                                           sentence\n",
              "0   neutral  According to Gran , the company has no plans t...\n",
              "1   neutral  Technopolis plans to develop in stages an area...\n",
              "2  negative  The international electronic industry company ...\n",
              "3  positive  With the new production plant the company woul...\n",
              "4  positive  According to the company 's updated strategy f..."
            ]
          },
          "metadata": {
            "tags": []
          },
          "execution_count": 2
        }
      ]
    },
    {
      "cell_type": "code",
      "metadata": {
        "id": "1HpYkfaOFUtt"
      },
      "source": [
        "#mengimpor beberapa library untuk text processing\n",
        "import nltk\n",
        "from nltk.corpus import stopwords\n",
        "from nltk.stem.porter import PorterStemmer\n",
        "import string\n",
        "import re\n",
        "from collections import Counter"
      ],
      "execution_count": 3,
      "outputs": []
    },
    {
      "cell_type": "code",
      "metadata": {
        "colab": {
          "base_uri": "https://localhost:8080/"
        },
        "id": "gCuzS5QoFj73",
        "outputId": "53e4301a-bdcd-448f-8d93-4231c90e899a"
      },
      "source": [
        "#download stopword untuk text processing\n",
        "nltk.download('stopwords')\n",
        "stopwords = nltk.corpus.stopwords.words('english')"
      ],
      "execution_count": 4,
      "outputs": [
        {
          "output_type": "stream",
          "text": [
            "[nltk_data] Downloading package stopwords to /root/nltk_data...\n",
            "[nltk_data]   Unzipping corpora/stopwords.zip.\n"
          ],
          "name": "stdout"
        }
      ]
    },
    {
      "cell_type": "code",
      "metadata": {
        "id": "Yt2gjdehFoue"
      },
      "source": [
        "#function untuk melakukan preprocessing\n",
        "def remove_punct(text):\n",
        "  text = \"\".join([char for char in text if char not in string.punctuation])\n",
        "  text = re.sub('[0-9]+', '', text)\n",
        "  return text\n",
        "\n",
        "def remove_stopwords(text, STOPWORDS):\n",
        "  #funtion untuk melakukan filltering\n",
        "  return \" \".join([word for word in str(text).split() if word not in STOPWORDS])\n",
        "\n",
        "def stem_words(text, stemmer):\n",
        "  #function untuk mengubah ke kata dasar (stemming)\n",
        "  return \" \".join([stemmer.stem(word) for word in text.split()])\n",
        "\n",
        "def remove_freqwords(text, FREQWORDS):\n",
        "  #function untuk menghapus kata yang sering keluar dalam 1 kalimat(hanya tampil 1)\n",
        "  return \" \".join([word for word in str(text).split() if word not in FREQWORDS])\n",
        "\n",
        "def clean_review(text):\n",
        "    clean_text = []\n",
        "    for w in word_tokenize(text):\n",
        "        if w.lower() not in stop:\n",
        "            pos = pos_tag([w])\n",
        "            new_w = lemmatizer.lemmatize(w, pos=get_simple_pos(pos[0][1]))\n",
        "            clean_text.append(new_w)\n",
        "    return clean_text"
      ],
      "execution_count": 5,
      "outputs": []
    },
    {
      "cell_type": "code",
      "metadata": {
        "colab": {
          "base_uri": "https://localhost:8080/",
          "height": 289
        },
        "id": "bNdwS9r8Fsxs",
        "outputId": "eec5210a-2f77-4fdc-a5a8-9e974ef7a713"
      },
      "source": [
        "#melakukan filltering\n",
        "df['sentence'] = df['sentence'].apply(lambda x: remove_punct(x))\n",
        "\", \".join(stopwords)\n",
        "STOPWORDS = set(stopwords)\n",
        "df[\"filltering\"] = df[\"sentence\"].apply(lambda text: remove_stopwords(text, STOPWORDS))\n",
        "df.head()"
      ],
      "execution_count": 6,
      "outputs": [
        {
          "output_type": "execute_result",
          "data": {
            "text/html": [
              "<div>\n",
              "<style scoped>\n",
              "    .dataframe tbody tr th:only-of-type {\n",
              "        vertical-align: middle;\n",
              "    }\n",
              "\n",
              "    .dataframe tbody tr th {\n",
              "        vertical-align: top;\n",
              "    }\n",
              "\n",
              "    .dataframe thead th {\n",
              "        text-align: right;\n",
              "    }\n",
              "</style>\n",
              "<table border=\"1\" class=\"dataframe\">\n",
              "  <thead>\n",
              "    <tr style=\"text-align: right;\">\n",
              "      <th></th>\n",
              "      <th>response</th>\n",
              "      <th>sentence</th>\n",
              "      <th>filltering</th>\n",
              "    </tr>\n",
              "  </thead>\n",
              "  <tbody>\n",
              "    <tr>\n",
              "      <th>0</th>\n",
              "      <td>neutral</td>\n",
              "      <td>According to Gran  the company has no plans to...</td>\n",
              "      <td>According Gran company plans move production R...</td>\n",
              "    </tr>\n",
              "    <tr>\n",
              "      <th>1</th>\n",
              "      <td>neutral</td>\n",
              "      <td>Technopolis plans to develop in stages an area...</td>\n",
              "      <td>Technopolis plans develop stages area less squ...</td>\n",
              "    </tr>\n",
              "    <tr>\n",
              "      <th>2</th>\n",
              "      <td>negative</td>\n",
              "      <td>The international electronic industry company ...</td>\n",
              "      <td>The international electronic industry company ...</td>\n",
              "    </tr>\n",
              "    <tr>\n",
              "      <th>3</th>\n",
              "      <td>positive</td>\n",
              "      <td>With the new production plant the company woul...</td>\n",
              "      <td>With new production plant company would increa...</td>\n",
              "    </tr>\n",
              "    <tr>\n",
              "      <th>4</th>\n",
              "      <td>positive</td>\n",
              "      <td>According to the company s updated strategy fo...</td>\n",
              "      <td>According company updated strategy years Baswa...</td>\n",
              "    </tr>\n",
              "  </tbody>\n",
              "</table>\n",
              "</div>"
            ],
            "text/plain": [
              "   response  ...                                         filltering\n",
              "0   neutral  ...  According Gran company plans move production R...\n",
              "1   neutral  ...  Technopolis plans develop stages area less squ...\n",
              "2  negative  ...  The international electronic industry company ...\n",
              "3  positive  ...  With new production plant company would increa...\n",
              "4  positive  ...  According company updated strategy years Baswa...\n",
              "\n",
              "[5 rows x 3 columns]"
            ]
          },
          "metadata": {
            "tags": []
          },
          "execution_count": 6
        }
      ]
    },
    {
      "cell_type": "code",
      "metadata": {
        "colab": {
          "base_uri": "https://localhost:8080/",
          "height": 244
        },
        "id": "l01ZTCPdFv3k",
        "outputId": "ac05c36e-b5aa-443c-9f42-311336aa120c"
      },
      "source": [
        "#melakukan stemming\n",
        "stemmer = PorterStemmer()\n",
        "df[\"text_stemmed\"] = df[\"filltering\"].apply(lambda text: stem_words(text, stemmer))\n",
        "df.head(3)"
      ],
      "execution_count": 7,
      "outputs": [
        {
          "output_type": "execute_result",
          "data": {
            "text/html": [
              "<div>\n",
              "<style scoped>\n",
              "    .dataframe tbody tr th:only-of-type {\n",
              "        vertical-align: middle;\n",
              "    }\n",
              "\n",
              "    .dataframe tbody tr th {\n",
              "        vertical-align: top;\n",
              "    }\n",
              "\n",
              "    .dataframe thead th {\n",
              "        text-align: right;\n",
              "    }\n",
              "</style>\n",
              "<table border=\"1\" class=\"dataframe\">\n",
              "  <thead>\n",
              "    <tr style=\"text-align: right;\">\n",
              "      <th></th>\n",
              "      <th>response</th>\n",
              "      <th>sentence</th>\n",
              "      <th>filltering</th>\n",
              "      <th>text_stemmed</th>\n",
              "    </tr>\n",
              "  </thead>\n",
              "  <tbody>\n",
              "    <tr>\n",
              "      <th>0</th>\n",
              "      <td>neutral</td>\n",
              "      <td>According to Gran  the company has no plans to...</td>\n",
              "      <td>According Gran company plans move production R...</td>\n",
              "      <td>accord gran compani plan move product russia a...</td>\n",
              "    </tr>\n",
              "    <tr>\n",
              "      <th>1</th>\n",
              "      <td>neutral</td>\n",
              "      <td>Technopolis plans to develop in stages an area...</td>\n",
              "      <td>Technopolis plans develop stages area less squ...</td>\n",
              "      <td>technopoli plan develop stage area less squar ...</td>\n",
              "    </tr>\n",
              "    <tr>\n",
              "      <th>2</th>\n",
              "      <td>negative</td>\n",
              "      <td>The international electronic industry company ...</td>\n",
              "      <td>The international electronic industry company ...</td>\n",
              "      <td>the intern electron industri compani elcoteq l...</td>\n",
              "    </tr>\n",
              "  </tbody>\n",
              "</table>\n",
              "</div>"
            ],
            "text/plain": [
              "   response  ...                                       text_stemmed\n",
              "0   neutral  ...  accord gran compani plan move product russia a...\n",
              "1   neutral  ...  technopoli plan develop stage area less squar ...\n",
              "2  negative  ...  the intern electron industri compani elcoteq l...\n",
              "\n",
              "[3 rows x 4 columns]"
            ]
          },
          "metadata": {
            "tags": []
          },
          "execution_count": 7
        }
      ]
    },
    {
      "cell_type": "code",
      "metadata": {
        "colab": {
          "base_uri": "https://localhost:8080/"
        },
        "id": "LU3hKGxIFzbp",
        "outputId": "dcb6d308-1339-4f46-ebac-885d16702203"
      },
      "source": [
        "#melihat rata-rata kata yang sering keluar\n",
        "cnt = Counter()\n",
        "for text in df[\"text_stemmed\"].values:\n",
        "  for word in text.split():\n",
        "      cnt[word] += 1\n",
        "cnt.most_common(10)#melihat 10 kata yang sering keluar    "
      ],
      "execution_count": 8,
      "outputs": [
        {
          "output_type": "execute_result",
          "data": {
            "text/plain": [
              "[('the', 1354),\n",
              " ('eur', 1310),\n",
              " ('compani', 969),\n",
              " ('mn', 593),\n",
              " ('oper', 571),\n",
              " ('said', 544),\n",
              " ('finnish', 513),\n",
              " ('sale', 500),\n",
              " ('million', 439),\n",
              " ('share', 438)]"
            ]
          },
          "metadata": {
            "tags": []
          },
          "execution_count": 8
        }
      ]
    },
    {
      "cell_type": "code",
      "metadata": {
        "colab": {
          "base_uri": "https://localhost:8080/",
          "height": 329
        },
        "id": "XUQO2OWpF2zS",
        "outputId": "c7341735-74f7-4f89-ef8e-2f47c8c309ee"
      },
      "source": [
        "#menghapus rata-rata kata yang sering keluar\n",
        "FREQWORDS = set([w for (w, wc) in cnt.most_common(10)])\n",
        "df[\"text_stop_freq\"] = df[\"text_stemmed\"].apply(lambda text: remove_freqwords(text, FREQWORDS))\n",
        "df.head(3)"
      ],
      "execution_count": 9,
      "outputs": [
        {
          "output_type": "execute_result",
          "data": {
            "text/html": [
              "<div>\n",
              "<style scoped>\n",
              "    .dataframe tbody tr th:only-of-type {\n",
              "        vertical-align: middle;\n",
              "    }\n",
              "\n",
              "    .dataframe tbody tr th {\n",
              "        vertical-align: top;\n",
              "    }\n",
              "\n",
              "    .dataframe thead th {\n",
              "        text-align: right;\n",
              "    }\n",
              "</style>\n",
              "<table border=\"1\" class=\"dataframe\">\n",
              "  <thead>\n",
              "    <tr style=\"text-align: right;\">\n",
              "      <th></th>\n",
              "      <th>response</th>\n",
              "      <th>sentence</th>\n",
              "      <th>filltering</th>\n",
              "      <th>text_stemmed</th>\n",
              "      <th>text_stop_freq</th>\n",
              "    </tr>\n",
              "  </thead>\n",
              "  <tbody>\n",
              "    <tr>\n",
              "      <th>0</th>\n",
              "      <td>neutral</td>\n",
              "      <td>According to Gran  the company has no plans to...</td>\n",
              "      <td>According Gran company plans move production R...</td>\n",
              "      <td>accord gran compani plan move product russia a...</td>\n",
              "      <td>accord gran plan move product russia although ...</td>\n",
              "    </tr>\n",
              "    <tr>\n",
              "      <th>1</th>\n",
              "      <td>neutral</td>\n",
              "      <td>Technopolis plans to develop in stages an area...</td>\n",
              "      <td>Technopolis plans develop stages area less squ...</td>\n",
              "      <td>technopoli plan develop stage area less squar ...</td>\n",
              "      <td>technopoli plan develop stage area less squar ...</td>\n",
              "    </tr>\n",
              "    <tr>\n",
              "      <th>2</th>\n",
              "      <td>negative</td>\n",
              "      <td>The international electronic industry company ...</td>\n",
              "      <td>The international electronic industry company ...</td>\n",
              "      <td>the intern electron industri compani elcoteq l...</td>\n",
              "      <td>intern electron industri elcoteq laid ten empl...</td>\n",
              "    </tr>\n",
              "  </tbody>\n",
              "</table>\n",
              "</div>"
            ],
            "text/plain": [
              "   response  ...                                     text_stop_freq\n",
              "0   neutral  ...  accord gran plan move product russia although ...\n",
              "1   neutral  ...  technopoli plan develop stage area less squar ...\n",
              "2  negative  ...  intern electron industri elcoteq laid ten empl...\n",
              "\n",
              "[3 rows x 5 columns]"
            ]
          },
          "metadata": {
            "tags": []
          },
          "execution_count": 9
        }
      ]
    },
    {
      "cell_type": "code",
      "metadata": {
        "colab": {
          "base_uri": "https://localhost:8080/",
          "height": 204
        },
        "id": "Bs07MwX-F6G9",
        "outputId": "94e55748-afee-4e8e-cdd9-69b4a130082c"
      },
      "source": [
        "#menghapus kolom hasil text processing kecuali hasil terakhir\n",
        "df = df.drop(columns=[\"sentence\", \"filltering\", \"text_stemmed\"])\n",
        "df.head()"
      ],
      "execution_count": 10,
      "outputs": [
        {
          "output_type": "execute_result",
          "data": {
            "text/html": [
              "<div>\n",
              "<style scoped>\n",
              "    .dataframe tbody tr th:only-of-type {\n",
              "        vertical-align: middle;\n",
              "    }\n",
              "\n",
              "    .dataframe tbody tr th {\n",
              "        vertical-align: top;\n",
              "    }\n",
              "\n",
              "    .dataframe thead th {\n",
              "        text-align: right;\n",
              "    }\n",
              "</style>\n",
              "<table border=\"1\" class=\"dataframe\">\n",
              "  <thead>\n",
              "    <tr style=\"text-align: right;\">\n",
              "      <th></th>\n",
              "      <th>response</th>\n",
              "      <th>text_stop_freq</th>\n",
              "    </tr>\n",
              "  </thead>\n",
              "  <tbody>\n",
              "    <tr>\n",
              "      <th>0</th>\n",
              "      <td>neutral</td>\n",
              "      <td>accord gran plan move product russia although ...</td>\n",
              "    </tr>\n",
              "    <tr>\n",
              "      <th>1</th>\n",
              "      <td>neutral</td>\n",
              "      <td>technopoli plan develop stage area less squar ...</td>\n",
              "    </tr>\n",
              "    <tr>\n",
              "      <th>2</th>\n",
              "      <td>negative</td>\n",
              "      <td>intern electron industri elcoteq laid ten empl...</td>\n",
              "    </tr>\n",
              "    <tr>\n",
              "      <th>3</th>\n",
              "      <td>positive</td>\n",
              "      <td>with new product plant would increas capac mee...</td>\n",
              "    </tr>\n",
              "    <tr>\n",
              "      <th>4</th>\n",
              "      <td>positive</td>\n",
              "      <td>accord updat strategi year baswar target longt...</td>\n",
              "    </tr>\n",
              "  </tbody>\n",
              "</table>\n",
              "</div>"
            ],
            "text/plain": [
              "   response                                     text_stop_freq\n",
              "0   neutral  accord gran plan move product russia although ...\n",
              "1   neutral  technopoli plan develop stage area less squar ...\n",
              "2  negative  intern electron industri elcoteq laid ten empl...\n",
              "3  positive  with new product plant would increas capac mee...\n",
              "4  positive  accord updat strategi year baswar target longt..."
            ]
          },
          "metadata": {
            "tags": []
          },
          "execution_count": 10
        }
      ]
    },
    {
      "cell_type": "code",
      "metadata": {
        "colab": {
          "base_uri": "https://localhost:8080/",
          "height": 204
        },
        "id": "f0mSfuuoGIGC",
        "outputId": "aac2941a-0a72-481e-9bb2-b583c7d1f047"
      },
      "source": [
        "df = df.rename(columns={\"text_stop_freq\":\"comments\"})\n",
        "df.head()"
      ],
      "execution_count": 11,
      "outputs": [
        {
          "output_type": "execute_result",
          "data": {
            "text/html": [
              "<div>\n",
              "<style scoped>\n",
              "    .dataframe tbody tr th:only-of-type {\n",
              "        vertical-align: middle;\n",
              "    }\n",
              "\n",
              "    .dataframe tbody tr th {\n",
              "        vertical-align: top;\n",
              "    }\n",
              "\n",
              "    .dataframe thead th {\n",
              "        text-align: right;\n",
              "    }\n",
              "</style>\n",
              "<table border=\"1\" class=\"dataframe\">\n",
              "  <thead>\n",
              "    <tr style=\"text-align: right;\">\n",
              "      <th></th>\n",
              "      <th>response</th>\n",
              "      <th>comments</th>\n",
              "    </tr>\n",
              "  </thead>\n",
              "  <tbody>\n",
              "    <tr>\n",
              "      <th>0</th>\n",
              "      <td>neutral</td>\n",
              "      <td>accord gran plan move product russia although ...</td>\n",
              "    </tr>\n",
              "    <tr>\n",
              "      <th>1</th>\n",
              "      <td>neutral</td>\n",
              "      <td>technopoli plan develop stage area less squar ...</td>\n",
              "    </tr>\n",
              "    <tr>\n",
              "      <th>2</th>\n",
              "      <td>negative</td>\n",
              "      <td>intern electron industri elcoteq laid ten empl...</td>\n",
              "    </tr>\n",
              "    <tr>\n",
              "      <th>3</th>\n",
              "      <td>positive</td>\n",
              "      <td>with new product plant would increas capac mee...</td>\n",
              "    </tr>\n",
              "    <tr>\n",
              "      <th>4</th>\n",
              "      <td>positive</td>\n",
              "      <td>accord updat strategi year baswar target longt...</td>\n",
              "    </tr>\n",
              "  </tbody>\n",
              "</table>\n",
              "</div>"
            ],
            "text/plain": [
              "   response                                           comments\n",
              "0   neutral  accord gran plan move product russia although ...\n",
              "1   neutral  technopoli plan develop stage area less squar ...\n",
              "2  negative  intern electron industri elcoteq laid ten empl...\n",
              "3  positive  with new product plant would increas capac mee...\n",
              "4  positive  accord updat strategi year baswar target longt..."
            ]
          },
          "metadata": {
            "tags": []
          },
          "execution_count": 11
        }
      ]
    },
    {
      "cell_type": "code",
      "metadata": {
        "colab": {
          "base_uri": "https://localhost:8080/",
          "height": 419
        },
        "id": "YZ3wok8PGK9a",
        "outputId": "3e3c39fa-b6cf-4544-ec83-5e7268c1b766"
      },
      "source": [
        "#merubah ke one-hot-encoding\n",
        "category = pd.get_dummies(df.response)\n",
        "df_baru = pd.concat([df, category], axis=1)\n",
        "df_baru = df_baru.drop(columns='response')\n",
        "df_baru"
      ],
      "execution_count": 12,
      "outputs": [
        {
          "output_type": "execute_result",
          "data": {
            "text/html": [
              "<div>\n",
              "<style scoped>\n",
              "    .dataframe tbody tr th:only-of-type {\n",
              "        vertical-align: middle;\n",
              "    }\n",
              "\n",
              "    .dataframe tbody tr th {\n",
              "        vertical-align: top;\n",
              "    }\n",
              "\n",
              "    .dataframe thead th {\n",
              "        text-align: right;\n",
              "    }\n",
              "</style>\n",
              "<table border=\"1\" class=\"dataframe\">\n",
              "  <thead>\n",
              "    <tr style=\"text-align: right;\">\n",
              "      <th></th>\n",
              "      <th>comments</th>\n",
              "      <th>negative</th>\n",
              "      <th>neutral</th>\n",
              "      <th>positive</th>\n",
              "    </tr>\n",
              "  </thead>\n",
              "  <tbody>\n",
              "    <tr>\n",
              "      <th>0</th>\n",
              "      <td>accord gran plan move product russia although ...</td>\n",
              "      <td>0</td>\n",
              "      <td>1</td>\n",
              "      <td>0</td>\n",
              "    </tr>\n",
              "    <tr>\n",
              "      <th>1</th>\n",
              "      <td>technopoli plan develop stage area less squar ...</td>\n",
              "      <td>0</td>\n",
              "      <td>1</td>\n",
              "      <td>0</td>\n",
              "    </tr>\n",
              "    <tr>\n",
              "      <th>2</th>\n",
              "      <td>intern electron industri elcoteq laid ten empl...</td>\n",
              "      <td>1</td>\n",
              "      <td>0</td>\n",
              "      <td>0</td>\n",
              "    </tr>\n",
              "    <tr>\n",
              "      <th>3</th>\n",
              "      <td>with new product plant would increas capac mee...</td>\n",
              "      <td>0</td>\n",
              "      <td>0</td>\n",
              "      <td>1</td>\n",
              "    </tr>\n",
              "    <tr>\n",
              "      <th>4</th>\n",
              "      <td>accord updat strategi year baswar target longt...</td>\n",
              "      <td>0</td>\n",
              "      <td>0</td>\n",
              "      <td>1</td>\n",
              "    </tr>\n",
              "    <tr>\n",
              "      <th>...</th>\n",
              "      <td>...</td>\n",
              "      <td>...</td>\n",
              "      <td>...</td>\n",
              "      <td>...</td>\n",
              "    </tr>\n",
              "    <tr>\n",
              "      <th>4841</th>\n",
              "      <td>london marketwatch price end lower london mond...</td>\n",
              "      <td>1</td>\n",
              "      <td>0</td>\n",
              "      <td>0</td>\n",
              "    </tr>\n",
              "    <tr>\n",
              "      <th>4842</th>\n",
              "      <td>rinkuskiai beer fell per cent litr kauno alu b...</td>\n",
              "      <td>0</td>\n",
              "      <td>1</td>\n",
              "      <td>0</td>\n",
              "    </tr>\n",
              "    <tr>\n",
              "      <th>4843</th>\n",
              "      <td>profit fell includ vessel gain</td>\n",
              "      <td>1</td>\n",
              "      <td>0</td>\n",
              "      <td>0</td>\n",
              "    </tr>\n",
              "    <tr>\n",
              "      <th>4844</th>\n",
              "      <td>net paper segment decreas second quarter secon...</td>\n",
              "      <td>1</td>\n",
              "      <td>0</td>\n",
              "      <td>0</td>\n",
              "    </tr>\n",
              "    <tr>\n",
              "      <th>4845</th>\n",
              "      <td>finland decreas januari outsid finland drop</td>\n",
              "      <td>1</td>\n",
              "      <td>0</td>\n",
              "      <td>0</td>\n",
              "    </tr>\n",
              "  </tbody>\n",
              "</table>\n",
              "<p>4846 rows × 4 columns</p>\n",
              "</div>"
            ],
            "text/plain": [
              "                                               comments  ...  positive\n",
              "0     accord gran plan move product russia although ...  ...         0\n",
              "1     technopoli plan develop stage area less squar ...  ...         0\n",
              "2     intern electron industri elcoteq laid ten empl...  ...         0\n",
              "3     with new product plant would increas capac mee...  ...         1\n",
              "4     accord updat strategi year baswar target longt...  ...         1\n",
              "...                                                 ...  ...       ...\n",
              "4841  london marketwatch price end lower london mond...  ...         0\n",
              "4842  rinkuskiai beer fell per cent litr kauno alu b...  ...         0\n",
              "4843                     profit fell includ vessel gain  ...         0\n",
              "4844  net paper segment decreas second quarter secon...  ...         0\n",
              "4845        finland decreas januari outsid finland drop  ...         0\n",
              "\n",
              "[4846 rows x 4 columns]"
            ]
          },
          "metadata": {
            "tags": []
          },
          "execution_count": 12
        }
      ]
    },
    {
      "cell_type": "code",
      "metadata": {
        "id": "t3ReNen-GRJN"
      },
      "source": [
        "#mengubah nilai dataframe ke dalam tipe data array menggunakan atribut values\n",
        "sentence = df_baru['comments'].values\n",
        "label = df_baru[['negative', 'neutral', 'positive']].values"
      ],
      "execution_count": 14,
      "outputs": []
    },
    {
      "cell_type": "code",
      "metadata": {
        "id": "bNd0Yh-OGbBE"
      },
      "source": [
        "#membagi data menjadi data training dan data testing\n",
        "from sklearn.model_selection import train_test_split\n",
        "sentence_latih, sentence_test, label_latih, label_test = train_test_split(sentence, label, test_size=0.2)"
      ],
      "execution_count": 15,
      "outputs": []
    },
    {
      "cell_type": "code",
      "metadata": {
        "id": "0wTj30fjG3ei"
      },
      "source": [
        "#ubah setiap data ke numerik dengan Tokenizer\n",
        "#setelah itu mengonversi sampel menjadi sequence\n",
        "\n",
        "from tensorflow.keras.preprocessing.text import Tokenizer\n",
        "from tensorflow.keras.preprocessing.sequence import pad_sequences\n",
        "\n",
        "tokenizer = Tokenizer(num_words=8766, oov_token='x')\n",
        "tokenizer.fit_on_texts(sentence_latih)\n",
        "tokenizer.fit_on_texts(sentence_test)\n",
        "\n",
        "sekuens_latih = tokenizer.texts_to_sequences(sentence_latih)\n",
        "sekuens_test = tokenizer.texts_to_sequences(sentence_test)\n",
        "\n",
        "padded_latih = pad_sequences(sekuens_latih)\n",
        "padded_test = pad_sequences(sekuens_test)"
      ],
      "execution_count": 19,
      "outputs": []
    },
    {
      "cell_type": "code",
      "metadata": {
        "id": "e84YsCszIf7_"
      },
      "source": [
        "from tensorflow.python.keras.layers.core import Dropout\n",
        "import tensorflow as tf\n",
        "model = tf.keras.Sequential([\n",
        "    tf.keras.layers.Embedding(input_dim=8766, output_dim=16),\n",
        "    tf.keras.layers.LSTM(128),\n",
        "    tf.keras.layers.Dense(128, activation='relu'),\n",
        "    tf.keras.layers.Dropout(0.5),\n",
        "    tf.keras.layers.Dense(64, activation='relu'),\n",
        "    tf.keras.layers.Dropout(0.5),\n",
        "    tf.keras.layers.Dense(3, activation='softmax')\n",
        "])\n",
        "model.compile(loss='categorical_crossentropy',\n",
        "              optimizer=tf.keras.optimizers.Adam(0.001),\n",
        "              metrics=['accuracy'])"
      ],
      "execution_count": 27,
      "outputs": []
    },
    {
      "cell_type": "code",
      "metadata": {
        "id": "EYa-bNteJswZ"
      },
      "source": [
        "class myCallback(tf.keras.callbacks.Callback):\n",
        "  def on_epoch_end(self, epoch, logs={}):\n",
        "    if(logs.get('val_accuracy')>0.75):\n",
        "      print('\\n akurasi sudah terpenuhi')\n",
        "      self.model.stop_training = True\n",
        "callback = myCallback()"
      ],
      "execution_count": 28,
      "outputs": []
    },
    {
      "cell_type": "code",
      "metadata": {
        "colab": {
          "base_uri": "https://localhost:8080/"
        },
        "id": "2bWuaMRgJwDf",
        "outputId": "92f70fd3-ff7d-48ae-874e-81812b57d4fe"
      },
      "source": [
        "history = model.fit(padded_latih, label_latih,\n",
        "                    epochs=50,\n",
        "                    batch_size=32,\n",
        "                    \n",
        "                    validation_data=(padded_test, label_test),\n",
        "                    callbacks=[callback],\n",
        "                    verbose=2)"
      ],
      "execution_count": 29,
      "outputs": [
        {
          "output_type": "stream",
          "text": [
            "Epoch 1/50\n",
            "122/122 - 6s - loss: 0.9504 - accuracy: 0.5815 - val_loss: 0.8187 - val_accuracy: 0.6320\n",
            "Epoch 2/50\n",
            "122/122 - 4s - loss: 0.7275 - accuracy: 0.6847 - val_loss: 0.7328 - val_accuracy: 0.6804\n",
            "Epoch 3/50\n",
            "122/122 - 4s - loss: 0.5416 - accuracy: 0.7701 - val_loss: 0.7757 - val_accuracy: 0.6588\n",
            "Epoch 4/50\n",
            "122/122 - 4s - loss: 0.4480 - accuracy: 0.8088 - val_loss: 0.8546 - val_accuracy: 0.6794\n",
            "Epoch 5/50\n",
            "122/122 - 4s - loss: 0.3497 - accuracy: 0.8418 - val_loss: 0.9337 - val_accuracy: 0.7082\n",
            "Epoch 6/50\n",
            "122/122 - 4s - loss: 0.2383 - accuracy: 0.9177 - val_loss: 1.0076 - val_accuracy: 0.7082\n",
            "Epoch 7/50\n",
            "122/122 - 4s - loss: 0.1594 - accuracy: 0.9474 - val_loss: 1.3188 - val_accuracy: 0.7278\n",
            "Epoch 8/50\n",
            "122/122 - 4s - loss: 0.1235 - accuracy: 0.9610 - val_loss: 1.1865 - val_accuracy: 0.7340\n",
            "Epoch 9/50\n",
            "122/122 - 4s - loss: 0.1035 - accuracy: 0.9665 - val_loss: 1.3602 - val_accuracy: 0.7268\n",
            "Epoch 10/50\n",
            "122/122 - 4s - loss: 0.1085 - accuracy: 0.9659 - val_loss: 1.4459 - val_accuracy: 0.7454\n",
            "Epoch 11/50\n",
            "122/122 - 4s - loss: 0.0739 - accuracy: 0.9750 - val_loss: 1.5161 - val_accuracy: 0.7485\n",
            "Epoch 12/50\n",
            "122/122 - 4s - loss: 0.0848 - accuracy: 0.9729 - val_loss: 1.5389 - val_accuracy: 0.7340\n",
            "Epoch 13/50\n",
            "122/122 - 5s - loss: 0.0698 - accuracy: 0.9804 - val_loss: 1.5745 - val_accuracy: 0.7423\n",
            "Epoch 14/50\n",
            "122/122 - 4s - loss: 0.0659 - accuracy: 0.9794 - val_loss: 1.4256 - val_accuracy: 0.7144\n",
            "Epoch 15/50\n",
            "122/122 - 4s - loss: 0.0541 - accuracy: 0.9825 - val_loss: 1.6831 - val_accuracy: 0.7423\n",
            "Epoch 16/50\n",
            "122/122 - 4s - loss: 0.0477 - accuracy: 0.9819 - val_loss: 2.0227 - val_accuracy: 0.7515\n",
            "\n",
            " akurasi sudah terpenuhi\n"
          ],
          "name": "stdout"
        }
      ]
    },
    {
      "cell_type": "code",
      "metadata": {
        "colab": {
          "base_uri": "https://localhost:8080/",
          "height": 295
        },
        "id": "4xkFI_fZJxxL",
        "outputId": "b3e9ce17-2495-4429-a78a-f9ef3f25e026"
      },
      "source": [
        "import matplotlib.pyplot as plt\n",
        "plt.plot(history.history['accuracy'])\n",
        "plt.plot(history.history['val_accuracy'])\n",
        "plt.title('Akurasi Model')\n",
        "plt.ylabel('accuracy')\n",
        "plt.xlabel('epoch')\n",
        "plt.legend(['train', 'test'], loc='upper left')\n",
        "plt.show()"
      ],
      "execution_count": 30,
      "outputs": [
        {
          "output_type": "display_data",
          "data": {
            "image/png": "[encoded data removed]",
            "text/plain": [
              "<Figure size 432x288 with 1 Axes>"
            ]
          },
          "metadata": {
            "tags": [],
            "needs_background": "light"
          }
        }
      ]
    },
    {
      "cell_type": "code",
      "metadata": {
        "colab": {
          "base_uri": "https://localhost:8080/",
          "height": 295
        },
        "id": "MjHOHathPiCl",
        "outputId": "f98d533b-85a4-4c26-c4bd-f0df5466bc19"
      },
      "source": [
        "plt.plot(history.history['loss'])\n",
        "plt.plot(history.history['val_loss'])\n",
        "plt.title('Loss Model')\n",
        "plt.ylabel('loss')\n",
        "plt.xlabel('epoch')\n",
        "plt.legend(['train', 'test'], loc='upper left')\n",
        "plt.show()"
      ],
      "execution_count": 31,
      "outputs": [
        {
          "output_type": "display_data",
          "data": {
            "image/png": "[encoded data removed]",
            "text/plain": [
              "<Figure size 432x288 with 1 Axes>"
            ]
          },
          "metadata": {
            "tags": [],
            "needs_background": "light"
          }
        }
      ]
    },
    {
      "cell_type": "code",
      "metadata": {
        "id": "uy9-BddkPl5M"
      },
      "source": [
        ""
      ],
      "execution_count": null,
      "outputs": []
    }
  ]
}